{
 "cells": [
  {
   "attachments": {},
   "cell_type": "markdown",
   "metadata": {},
   "source": [
    "### Question 5\n",
    "A certain city has two taxi companies: Company A has 80% of the taxis and\n",
    "Company B has 20% of the taxis. Company A's taxis have a 95% success rate for picking\n",
    "up passengers on time, while Company B's taxis have a 90% success rate. If a randomly\n",
    "selected taxi is late, what is the probability that it belongs to Company A"
   ]
  },
  {
   "cell_type": "code",
   "execution_count": 1,
   "metadata": {},
   "outputs": [
    {
     "name": "stdout",
     "output_type": "stream",
     "text": [
      "The probability that a randomly selected late taxi belongs to Company A is 0.6666666666666669\n"
     ]
    }
   ],
   "source": [
    "# Probability of selecting a taxi from Company A or Company B\n",
    "prob_company_a = 0.8\n",
    "prob_company_b = 0.2\n",
    "\n",
    "# Probability of a taxi being on time given it's from Company A or Company B\n",
    "prob_on_time_given_company_a = 0.95\n",
    "prob_on_time_given_company_b = 0.9\n",
    "\n",
    "# Probability of a taxi being late given it's from Company A or Company B\n",
    "prob_late_given_company_a = 1 - prob_on_time_given_company_a\n",
    "prob_late_given_company_b = 1 - prob_on_time_given_company_b\n",
    "\n",
    "# Probability of a taxi being late\n",
    "prob_late = prob_late_given_company_a * prob_company_a + prob_late_given_company_b * prob_company_b\n",
    "\n",
    "# Probability that a randomly selected late taxi belongs to Company A (using Bayes' Theorem)\n",
    "prob_company_a_given_late = (prob_late_given_company_a * prob_company_a) / prob_late\n",
    "\n",
    "print(f\"The probability that a randomly selected late taxi belongs to Company A is {prob_company_a_given_late}\")"
   ]
  },
  {
   "attachments": {},
   "cell_type": "markdown",
   "metadata": {},
   "source": [
    "The probability that a randomly selected late taxi belongs to Company A is 0.6666666666666669, which means there is approximately a 66.67% chance that a randomly selected late taxi belongs to Company A."
   ]
  }
 ],
 "metadata": {
  "kernelspec": {
   "display_name": "Python 3",
   "language": "python",
   "name": "python3"
  },
  "language_info": {
   "codemirror_mode": {
    "name": "ipython",
    "version": 3
   },
   "file_extension": ".py",
   "mimetype": "text/x-python",
   "name": "python",
   "nbconvert_exporter": "python",
   "pygments_lexer": "ipython3",
   "version": "3.10.2"
  },
  "orig_nbformat": 4
 },
 "nbformat": 4,
 "nbformat_minor": 2
}
