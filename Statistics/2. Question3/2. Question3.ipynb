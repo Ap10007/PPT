{
 "cells": [
  {
   "attachments": {},
   "cell_type": "markdown",
   "metadata": {},
   "source": [
    "### Question 3\n",
    "Consider the ‘Blood Pressure Before’ and ‘Blood Pressure After’ columns from the\n",
    "data and calculate the following"
   ]
  },
  {
   "cell_type": "code",
   "execution_count": 58,
   "metadata": {},
   "outputs": [],
   "source": [
    "import pandas as pd\n",
    "import numpy as np\n",
    "from scipy import stats\n",
    "import matplotlib.pyplot as plt"
   ]
  },
  {
   "cell_type": "code",
   "execution_count": 59,
   "metadata": {},
   "outputs": [
    {
     "data": {
      "text/html": [
       "<div>\n",
       "<style scoped>\n",
       "    .dataframe tbody tr th:only-of-type {\n",
       "        vertical-align: middle;\n",
       "    }\n",
       "\n",
       "    .dataframe tbody tr th {\n",
       "        vertical-align: top;\n",
       "    }\n",
       "\n",
       "    .dataframe thead th {\n",
       "        text-align: right;\n",
       "    }\n",
       "</style>\n",
       "<table border=\"1\" class=\"dataframe\">\n",
       "  <thead>\n",
       "    <tr style=\"text-align: right;\">\n",
       "      <th></th>\n",
       "      <th>Patient ID</th>\n",
       "      <th>Blood Pressure Before (mmHg)</th>\n",
       "      <th>Blood Pressure After (mmHg)</th>\n",
       "    </tr>\n",
       "  </thead>\n",
       "  <tbody>\n",
       "    <tr>\n",
       "      <th>0</th>\n",
       "      <td>1</td>\n",
       "      <td>130</td>\n",
       "      <td>120</td>\n",
       "    </tr>\n",
       "    <tr>\n",
       "      <th>1</th>\n",
       "      <td>2</td>\n",
       "      <td>142</td>\n",
       "      <td>135</td>\n",
       "    </tr>\n",
       "    <tr>\n",
       "      <th>2</th>\n",
       "      <td>3</td>\n",
       "      <td>120</td>\n",
       "      <td>118</td>\n",
       "    </tr>\n",
       "    <tr>\n",
       "      <th>3</th>\n",
       "      <td>4</td>\n",
       "      <td>135</td>\n",
       "      <td>127</td>\n",
       "    </tr>\n",
       "    <tr>\n",
       "      <th>4</th>\n",
       "      <td>5</td>\n",
       "      <td>148</td>\n",
       "      <td>140</td>\n",
       "    </tr>\n",
       "  </tbody>\n",
       "</table>\n",
       "</div>"
      ],
      "text/plain": [
       "   Patient ID   Blood Pressure Before (mmHg)   Blood Pressure After (mmHg)\n",
       "0           1                            130                           120\n",
       "1           2                            142                           135\n",
       "2           3                            120                           118\n",
       "3           4                            135                           127\n",
       "4           5                            148                           140"
      ]
     },
     "execution_count": 59,
     "metadata": {},
     "output_type": "execute_result"
    }
   ],
   "source": [
    "# Reading data from csv file\n",
    "data = pd.read_csv('data.csv')\n",
    "\n",
    "#Printing first few rows from our data\n",
    "data.head()"
   ]
  },
  {
   "cell_type": "code",
   "execution_count": 60,
   "metadata": {},
   "outputs": [
    {
     "name": "stdout",
     "output_type": "stream",
     "text": [
      "Index(['Patient ID', ' Blood Pressure Before (mmHg)',\n",
      "       ' Blood Pressure After (mmHg)'],\n",
      "      dtype='object')\n"
     ]
    }
   ],
   "source": [
    "#Prints name of column in our dataset\n",
    "print(data.columns)"
   ]
  },
  {
   "cell_type": "code",
   "execution_count": 61,
   "metadata": {},
   "outputs": [
    {
     "name": "stdout",
     "output_type": "stream",
     "text": [
      "Index(['Patient ID', 'Blood Pressure Before (mmHg)',\n",
      "       'Blood Pressure After (mmHg)'],\n",
      "      dtype='object')\n"
     ]
    }
   ],
   "source": [
    "#Removing extra spaces from our column\n",
    "data.columns = data.columns.str.strip()\n",
    "\n",
    "print(data.columns)"
   ]
  },
  {
   "attachments": {},
   "cell_type": "markdown",
   "metadata": {},
   "source": [
    "### A] Measure the dispersion in both and interpret the result"
   ]
  },
  {
   "cell_type": "code",
   "execution_count": 62,
   "metadata": {},
   "outputs": [
    {
     "name": "stdout",
     "output_type": "stream",
     "text": [
      "Range before: 28\n",
      "Range after: 23\n",
      "Variance before: 43.53727272727272\n",
      "Variance after: 47.44484848484848\n"
     ]
    }
   ],
   "source": [
    "# Extract 'Blood Pressure Before' and 'Blood Pressure After' columns\n",
    "bp_before = data['Blood Pressure Before (mmHg)']\n",
    "bp_after = data['Blood Pressure After (mmHg)']\n",
    "\n",
    "# Calculate range for both columns\n",
    "range_before = np.ptp(bp_before)\n",
    "range_after = np.ptp(bp_after)\n",
    "\n",
    "# Calculate variance for both columns\n",
    "variance_before = np.var(bp_before, ddof=1)\n",
    "variance_after = np.var(bp_after, ddof=1)\n",
    "\n",
    "# Print range, variance for both columns\n",
    "print('Range before:', range_before)\n",
    "print('Range after:', range_after)\n",
    "print('Variance before:', variance_before)\n",
    "print('Variance after:', variance_after)"
   ]
  },
  {
   "attachments": {},
   "cell_type": "markdown",
   "metadata": {},
   "source": [
    "### B] Calculate mean and 5% confidence interval and plot it in a graph"
   ]
  },
  {
   "cell_type": "code",
   "execution_count": 63,
   "metadata": {},
   "outputs": [
    {
     "name": "stdout",
     "output_type": "stream",
     "text": [
      "Mean before: 133.91\n",
      "Mean after: 128.36\n",
      "Confidence interval before: (132.60075849172767, 135.21924150827232)\n",
      "Confidence interval after: (126.99326697818071, 129.7267330218193)\n"
     ]
    }
   ],
   "source": [
    "# Calculate mean for both columns\n",
    "mean_before = np.mean(bp_before)\n",
    "mean_after = np.mean(bp_after)\n",
    "\n",
    "# Calculate standard error of the mean for both columns\n",
    "sem_before = stats.sem(bp_before)\n",
    "sem_after = stats.sem(bp_after)\n",
    "\n",
    "# Calculate 95% confidence interval for both columns\n",
    "confidence_interval_before = stats.t.interval(0.95, len(bp_before)-1, loc=mean_before, scale=sem_before)\n",
    "confidence_interval_after = stats.t.interval(0.95, len(bp_after)-1, loc=mean_after, scale=sem_after)\n",
    "\n",
    "# Print mean and confidence interval for both columns\n",
    "print('Mean before:', mean_before)\n",
    "print('Mean after:', mean_after)\n",
    "print('Confidence interval before:', confidence_interval_before)\n",
    "print('Confidence interval after:', confidence_interval_after)"
   ]
  },
  {
   "cell_type": "code",
   "execution_count": 64,
   "metadata": {},
   "outputs": [
    {
     "data": {
      "image/png": "[encoded data removed]",
      "text/plain": [
       "<Figure size 640x480 with 1 Axes>"
      ]
     },
     "metadata": {},
     "output_type": "display_data"
    }
   ],
   "source": [
    "# Plot mean and confidence interval for both columns\n",
    "plt.errorbar(['Before', 'After'], [mean_before, mean_after], yerr=[sem_before*1.96, sem_after*1.96], fmt='o')\n",
    "plt.show()"
   ]
  },
  {
   "attachments": {},
   "cell_type": "markdown",
   "metadata": {},
   "source": [
    "### C] Calculate the Mean absolute deviation and Standard deviation and interpret the results."
   ]
  },
  {
   "cell_type": "code",
   "execution_count": 65,
   "metadata": {},
   "outputs": [
    {
     "name": "stdout",
     "output_type": "stream",
     "text": [
      "Mean absolute deviation before: 5.7118\n",
      "Mean absolute deviation after: 5.9\n",
      "Standard deviation before: 6.598278012275076\n",
      "Standard deviation after: 6.888022102523226\n"
     ]
    }
   ],
   "source": [
    "# Calculate mean absolute deviation for both columns\n",
    "mad_before = bp_before.mad()\n",
    "mad_after = bp_after.mad()\n",
    "\n",
    "\n",
    "# Calculate standard deviation for both columns\n",
    "std_before = np.std(bp_before, ddof=1)\n",
    "std_after = np.std(bp_after, ddof=1)\n",
    "\n",
    "# Print mean absolute deviation and standard deviation for both columns\n",
    "print('Mean absolute deviation before:', mad_before)\n",
    "print('Mean absolute deviation after:', mad_after)\n",
    "print('Standard deviation before:', std_before)\n",
    "print('Standard deviation after:', std_after)\n"
   ]
  },
  {
   "attachments": {},
   "cell_type": "markdown",
   "metadata": {},
   "source": [
    "#### Below is the analysis froom above result\n",
    "\n",
    "The MAD before is 5.7118 and the MAD after is 5.9. This means that on average, the blood pressure readings before are 5.7118 units away from the mean blood pressure before, while the blood pressure readings after are 5.9 units away from the mean blood pressure after. The MAD after is slightly larger than the MAD before, indicating that the blood pressure readings after are slightly more spread out than the blood pressure readings before.\n",
    "\n",
    "Similarly, the SD before is 6.598278012275076 and the SD after is 6.888022102523226. This means that on average, the blood pressure readings before are 6.598278012275076 units away from the mean blood pressure before, while the blood pressure readings after are 6.888022102523226 units away from the mean blood pressure after. The SD after is also slightly larger than the SD before, indicating that the blood pressure readings after are slightly more spread out than the blood pressure readings before."
   ]
  },
  {
   "attachments": {},
   "cell_type": "markdown",
   "metadata": {},
   "source": [
    "### D] Calculate the correlation coefficient and check the significance of it at 1% level of significance"
   ]
  },
  {
   "cell_type": "code",
   "execution_count": 66,
   "metadata": {},
   "outputs": [
    {
     "name": "stdout",
     "output_type": "stream",
     "text": [
      "Correlation coefficient: 0.9779485966556019\n",
      "p-value: 1.8097381433068578e-68\n",
      "Significant at 1% level: True\n"
     ]
    }
   ],
   "source": [
    "# Calculate correlation coefficient and p-value between the two columns\n",
    "corr, p_value = stats.pearsonr(bp_before, bp_after)\n",
    "\n",
    "# Check if correlation is significant at 1% level of significance\n",
    "significant = p_value < 0.01\n",
    "\n",
    "# Print correlation coefficient, p-value, and significance result\n",
    "print('Correlation coefficient:', corr)\n",
    "print('p-value:', p_value)\n",
    "print('Significant at 1% level:', significant)"
   ]
  }
 ],
 "metadata": {
  "kernelspec": {
   "display_name": "Python 3",
   "language": "python",
   "name": "python3"
  },
  "language_info": {
   "codemirror_mode": {
    "name": "ipython",
    "version": 3
   },
   "file_extension": ".py",
   "mimetype": "text/x-python",
   "name": "python",
   "nbconvert_exporter": "python",
   "pygments_lexer": "ipython3",
   "version": "3.10.2"
  },
  "orig_nbformat": 4
 },
 "nbformat": 4,
 "nbformat_minor": 2
}
