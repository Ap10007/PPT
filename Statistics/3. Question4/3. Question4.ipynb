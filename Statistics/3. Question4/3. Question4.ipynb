{
 "cells": [
  {
   "attachments": {},
   "cell_type": "markdown",
   "metadata": {},
   "source": [
    "### Question 4\n",
    "A group of 20 friends decide to play a game in which they each write a number\n",
    "between 1 and 20 on a slip of paper and put it into a hat. They then draw one slip of paper\n",
    "at random. What is the probability that the number on the slip of paper is a perfect square\n",
    "(i.e., 1, 4, 9, or 16)?"
   ]
  },
  {
   "cell_type": "code",
   "execution_count": 1,
   "metadata": {},
   "outputs": [
    {
     "name": "stdout",
     "output_type": "stream",
     "text": [
      "The probability of drawing a perfect square is 0.2\n"
     ]
    }
   ],
   "source": [
    "# Total number of friends\n",
    "total_friends = 20\n",
    "\n",
    "# Total number of perfect squares between 1 and 20\n",
    "perfect_squares = [1, 4, 9, 16]\n",
    "total_perfect_squares = len(perfect_squares)\n",
    "\n",
    "# Calculate the probability of drawing a perfect square\n",
    "probability = total_perfect_squares / total_friends\n",
    "\n",
    "print(f\"The probability of drawing a perfect square is {probability}\")"
   ]
  },
  {
   "attachments": {},
   "cell_type": "markdown",
   "metadata": {},
   "source": [
    "The probability of drawing a perfect square is 0.2, which means there is a 20% chance of drawing a perfect square from the hat."
   ]
  }
 ],
 "metadata": {
  "kernelspec": {
   "display_name": "Python 3",
   "language": "python",
   "name": "python3"
  },
  "language_info": {
   "codemirror_mode": {
    "name": "ipython",
    "version": 3
   },
   "file_extension": ".py",
   "mimetype": "text/x-python",
   "name": "python",
   "nbconvert_exporter": "python",
   "pygments_lexer": "ipython3",
   "version": "3.10.2"
  },
  "orig_nbformat": 4
 },
 "nbformat": 4,
 "nbformat_minor": 2
}
