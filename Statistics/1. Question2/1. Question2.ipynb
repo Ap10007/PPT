{
 "cells": [
  {
   "attachments": {},
   "cell_type": "markdown",
   "metadata": {},
   "source": [
    "### Question 2\n",
    "\n",
    "Consider a dataset containing the heights (in centimeters) of 1000 individuals. The\n",
    "mean height is 170 cm with a standard deviation of 10 cm. The dataset is approximately\n",
    "normally distributed, and its skewness is approximately zero. Based on this information,\n",
    "answer the following questions:\n",
    "a. What percentage of individuals in the dataset have heights between 160 cm\n",
    "and 180 cm?\n",
    "b. If we randomly select 100 individuals from the dataset, what is the probability\n",
    "that their average height is greater than 175 cm?\n",
    "c. Assuming the dataset follows a normal distribution, what is the z-score\n",
    "corresponding to a height of 185 cm?\n",
    "d. We know that 5% of the dataset has heights below a certain value. What is\n",
    "the approximate height corresponding to this threshold?\n",
    "e. Calculate the coefficient of variation (CV) for the dataset.\n",
    "f. Calculate the skewness of the dataset and interpret the result."
   ]
  },
  {
   "cell_type": "code",
   "execution_count": 5,
   "metadata": {},
   "outputs": [],
   "source": [
    "import scipy.stats as stats"
   ]
  },
  {
   "cell_type": "code",
   "execution_count": 6,
   "metadata": {},
   "outputs": [
    {
     "name": "stdout",
     "output_type": "stream",
     "text": [
      "a. 68.27% of individuals have heights between 160 and 180 cm.\n",
      "b. The probability that the average height of 100 randomly selected individuals is greater than 175 cm is 0.0000.\n",
      "c. The z-score corresponding to a height of 185 cm is 1.50.\n",
      "d. The approximate height corresponding to the bottom 5% of the dataset is 153.55 cm.\n",
      "e. The coefficient of variation (CV) for the dataset is 0.0588.\n",
      "f. The skewness of the dataset is 0.00, which indicates that the distribution is symmetric around its mean.\n"
     ]
    }
   ],
   "source": [
    "# Given information\n",
    "mean = 170 # mean height\n",
    "std_dev = 10 # standard deviation of heights\n",
    "n = 100 # sample size\n",
    "\n",
    "# A] Percentage of individuals with heights between 160 and 180 cm.\n",
    "\n",
    "# Use the cumulative distribution function (cdf) of the normal distribution to calculate the probability\n",
    "prob = stats.norm(mean, std_dev).cdf(180) - stats.norm(mean, std_dev).cdf(160)\n",
    "percentage = prob * 100 # convert probability to percentage\n",
    "print(f'a. {percentage:.2f}% of individuals have heights between 160 and 180 cm.')\n",
    "\n",
    "# B] Probability that the average height of 100 randomly selected individuals is greater than 175 cm.\n",
    "\n",
    "# The distribution of the sample mean is approximately normal with mean = population mean and standard deviation = population standard deviation / sqrt(sample size)\n",
    "sample_mean = mean\n",
    "sample_std_dev = std_dev / (n ** 0.5)\n",
    "# Use the cumulative distribution function (cdf) of the normal distribution to calculate the probability\n",
    "prob = 1 - stats.norm(sample_mean, sample_std_dev).cdf(175)\n",
    "print(f'b. The probability that the average height of 100 randomly selected individuals is greater than 175 cm is {prob:.4f}.')\n",
    "\n",
    "# C] z-score corresponding to a height of 185 cm.\n",
    "\n",
    "# z-score = (value - mean) / standard deviation\n",
    "z_score = (185 - mean) / std_dev\n",
    "print(f'c. The z-score corresponding to a height of 185 cm is {z_score:.2f}.')\n",
    "\n",
    "# D] Height corresponding to the bottom 5% of the dataset.\n",
    "\n",
    "# Use the percent point function (ppf), which is the inverse of the cdf, to calculate the height value\n",
    "height = stats.norm(mean, std_dev).ppf(0.05)\n",
    "print(f'd. The approximate height corresponding to the bottom 5% of the dataset is {height:.2f} cm.')\n",
    "\n",
    "# E] Coefficient of variation (CV) for the dataset.\n",
    "\n",
    "# CV = standard deviation / mean\n",
    "cv = std_dev / mean\n",
    "print(f'e. The coefficient of variation (CV) for the dataset is {cv:.4f}.')\n",
    "\n",
    "# F] Skewness of the dataset\n",
    "\n",
    "skewness = 0 # Given as approximately zero\n",
    "print(f'f. The skewness of the dataset is {skewness:.2f}, which indicates that the distribution is symmetric around its mean.')\n"
   ]
  }
 ],
 "metadata": {
  "kernelspec": {
   "display_name": "Python 3",
   "language": "python",
   "name": "python3"
  },
  "language_info": {
   "codemirror_mode": {
    "name": "ipython",
    "version": 3
   },
   "file_extension": ".py",
   "mimetype": "text/x-python",
   "name": "python",
   "nbconvert_exporter": "python",
   "pygments_lexer": "ipython3",
   "version": "3.10.2"
  },
  "orig_nbformat": 4
 },
 "nbformat": 4,
 "nbformat_minor": 2
}
