{
 "cells": [
  {
   "attachments": {},
   "cell_type": "markdown",
   "metadata": {},
   "source": [
    "### Question 8 \n",
    "Using the data from Question 5, write code the analyze the data and answer the following questions Note -\n",
    "1. Draw plots to demonstrate the analysis for the following questions and better visualizations\n",
    "2. Write code comments wherever required for code understanding"
   ]
  },
  {
   "cell_type": "code",
   "execution_count": 2,
   "metadata": {},
   "outputs": [],
   "source": [
    "\n",
    "import requests\n",
    "import json\n",
    "import pandas as pd\n",
    "import seaborn as sns\n",
    "import numpy as np\n",
    "from datetime import datetime\n",
    "import matplotlib.pyplot as plt\n",
    "import csv\n",
    "from datetime import datetime\n",
    "from bs4 import BeautifulSoup"
   ]
  },
  {
   "cell_type": "code",
   "execution_count": 4,
   "metadata": {},
   "outputs": [
    {
     "data": {
      "text/html": [
       "<div>\n",
       "<style scoped>\n",
       "    .dataframe tbody tr th:only-of-type {\n",
       "        vertical-align: middle;\n",
       "    }\n",
       "\n",
       "    .dataframe tbody tr th {\n",
       "        vertical-align: top;\n",
       "    }\n",
       "\n",
       "    .dataframe thead th {\n",
       "        text-align: right;\n",
       "    }\n",
       "</style>\n",
       "<table border=\"1\" class=\"dataframe\">\n",
       "  <thead>\n",
       "    <tr style=\"text-align: right;\">\n",
       "      <th></th>\n",
       "      <th>id</th>\n",
       "      <th>url</th>\n",
       "      <th>name</th>\n",
       "      <th>season</th>\n",
       "      <th>number</th>\n",
       "      <th>type</th>\n",
       "      <th>airdate</th>\n",
       "      <th>airtime</th>\n",
       "      <th>runtime</th>\n",
       "      <th>average rating</th>\n",
       "      <th>summary</th>\n",
       "      <th>medium image link</th>\n",
       "      <th>original image link</th>\n",
       "    </tr>\n",
       "  </thead>\n",
       "  <tbody>\n",
       "    <tr>\n",
       "      <th>0</th>\n",
       "      <td>869671</td>\n",
       "      <td>https://www.tvmaze.com/episodes/869671/westwor...</td>\n",
       "      <td>The Original</td>\n",
       "      <td>1</td>\n",
       "      <td>1</td>\n",
       "      <td>regular</td>\n",
       "      <td>2016-10-02</td>\n",
       "      <td>09:00 PM</td>\n",
       "      <td>68</td>\n",
       "      <td>8.0</td>\n",
       "      <td>A woman named Dolores is a free spirit in the ...</td>\n",
       "      <td>https://static.tvmaze.com/uploads/images/mediu...</td>\n",
       "      <td>https://static.tvmaze.com/uploads/images/origi...</td>\n",
       "    </tr>\n",
       "    <tr>\n",
       "      <th>1</th>\n",
       "      <td>911201</td>\n",
       "      <td>https://www.tvmaze.com/episodes/911201/westwor...</td>\n",
       "      <td>Chestnut</td>\n",
       "      <td>1</td>\n",
       "      <td>2</td>\n",
       "      <td>regular</td>\n",
       "      <td>2016-10-09</td>\n",
       "      <td>09:00 PM</td>\n",
       "      <td>60</td>\n",
       "      <td>7.7</td>\n",
       "      <td>Bernard suspects that someone is sabotaging th...</td>\n",
       "      <td>https://static.tvmaze.com/uploads/images/mediu...</td>\n",
       "      <td>https://static.tvmaze.com/uploads/images/origi...</td>\n",
       "    </tr>\n",
       "  </tbody>\n",
       "</table>\n",
       "</div>"
      ],
      "text/plain": [
       "       id                                                url          name  \\\n",
       "0  869671  https://www.tvmaze.com/episodes/869671/westwor...  The Original   \n",
       "1  911201  https://www.tvmaze.com/episodes/911201/westwor...      Chestnut   \n",
       "\n",
       "   season  number     type     airdate   airtime  runtime  average rating  \\\n",
       "0       1       1  regular  2016-10-02  09:00 PM       68             8.0   \n",
       "1       1       2  regular  2016-10-09  09:00 PM       60             7.7   \n",
       "\n",
       "                                             summary  \\\n",
       "0  A woman named Dolores is a free spirit in the ...   \n",
       "1  Bernard suspects that someone is sabotaging th...   \n",
       "\n",
       "                                   medium image link  \\\n",
       "0  https://static.tvmaze.com/uploads/images/mediu...   \n",
       "1  https://static.tvmaze.com/uploads/images/mediu...   \n",
       "\n",
       "                                 original image link  \n",
       "0  https://static.tvmaze.com/uploads/images/origi...  \n",
       "1  https://static.tvmaze.com/uploads/images/origi...  "
      ]
     },
     "execution_count": 4,
     "metadata": {},
     "output_type": "execute_result"
    }
   ],
   "source": [
    "# API endpoint\n",
    "url = \"http://api.tvmaze.com/singlesearch/shows?q=westworld&embed=episodes\"\n",
    "\n",
    "# Send GET request to the API\n",
    "response = requests.get(url)\n",
    "\n",
    "# Check if the request was successful\n",
    "if response.status_code == 200:\n",
    "    # Get the JSON data from the response\n",
    "    data = response.json()\n",
    "    \n",
    "    # Extract the episodes data\n",
    "    episodes = data[\"_embedded\"][\"episodes\"]\n",
    "    \n",
    "    # Initialize a list to store the extracted episode data\n",
    "    episodes_data = []\n",
    "    \n",
    "    # Iterate over each episode and extract the required attributes\n",
    "    for episode in episodes:\n",
    "        episode_data = {\n",
    "            \"id\": episode[\"id\"],\n",
    "            \"url\": episode[\"url\"],\n",
    "            \"name\": episode[\"name\"],\n",
    "            \"season\": episode[\"season\"],\n",
    "            \"number\": episode[\"number\"],\n",
    "            \"type\": episode[\"type\"],\n",
    "            \"airdate\": datetime.strptime(episode[\"airdate\"], \"%Y-%m-%d\").date(),\n",
    "            \"airtime\": datetime.strptime(episode[\"airtime\"], \"%H:%M\").strftime(\"%I:%M %p\"),\n",
    "            \"runtime\": episode[\"runtime\"],\n",
    "            \"average rating\": episode[\"rating\"][\"average\"],\n",
    "            \"summary\": episode[\"summary\"].replace(\"<p>\", \"\").replace(\"</p>\", \"\"),\n",
    "            \"medium image link\": episode[\"image\"][\"medium\"],\n",
    "            \"original image link\": episode[\"image\"][\"original\"]\n",
    "        }\n",
    "        episodes_data.append(episode_data)\n",
    "    \n",
    "    # Create a dataframe from the extracted attributes\n",
    "    dataset = pd.DataFrame(episodes_data)\n",
    "else:\n",
    "    print(\"Error:\", response.status_code)"
   ]
  },
  {
   "attachments": {},
   "cell_type": "markdown",
   "metadata": {},
   "source": [
    "### 1. Get all the overall ratings for each season and using plots compare the ratings for all the seasons, like season 1 ratings, season 2, and so on.\n"
   ]
  },
  {
   "cell_type": "code",
   "execution_count": 5,
   "metadata": {},
   "outputs": [
    {
     "data": {
      "image/png": "[encoded data removed]",
      "text/plain": [
       "<Figure size 1200x500 with 1 Axes>"
      ]
     },
     "metadata": {},
     "output_type": "display_data"
    }
   ],
   "source": [
    "#Creating a variable and filtering records as per problem statement\n",
    "season_ratings = dataset.groupby(\"season\")[\"average rating\"].mean().reset_index()\n",
    "\n",
    "# Plotting the ratings for each seasons\n",
    "\n",
    "plt.figure(figsize=(12, 5))\n",
    "plt.bar(season_ratings[\"season\"], season_ratings[\"average rating\"])\n",
    "plt.xlabel(\"Season\")\n",
    "plt.ylabel(\"Average Rating\")\n",
    "plt.title(\"Average Ratings for Each Season\")\n",
    "plt.show()"
   ]
  },
  {
   "attachments": {},
   "cell_type": "markdown",
   "metadata": {},
   "source": [
    "### 2. Get all the episode names, whose average rating is more than 8 for every season."
   ]
  },
  {
   "cell_type": "code",
   "execution_count": 7,
   "metadata": {},
   "outputs": [
    {
     "name": "stdout",
     "output_type": "stream",
     "text": [
      "Season 1: [\"Trompe L'Oeil\", 'The Well-Tempered Clavier', 'The Bicameral Mind']\n",
      "Season 2: ['Kiksuya', 'Vanishing Point', 'The Passenger']\n"
     ]
    }
   ],
   "source": [
    "# Filter the dataset to only include episodes with an average rating greater than 8\n",
    "episode_names_by_season = dataset[dataset['average rating'] > 8].groupby('season')['name'].apply(list)\n",
    "\n",
    "# Iterate over each item in the episode_names_by_season Series\n",
    "for i, j in episode_names_by_season.items():\n",
    "    # Print the season number and list of episode names\n",
    "    print(f\"Season {i}: {j}\")"
   ]
  },
  {
   "attachments": {},
   "cell_type": "markdown",
   "metadata": {},
   "source": [
    "### 3. Get all the episode names that aired before May 2019"
   ]
  },
  {
   "cell_type": "code",
   "execution_count": 13,
   "metadata": {},
   "outputs": [
    {
     "name": "stdout",
     "output_type": "stream",
     "text": [
      "The Original\n",
      "Chestnut\n",
      "The Stray\n",
      "Dissonance Theory\n",
      "Contrapasso\n",
      "The Adversary\n",
      "Trompe L'Oeil\n",
      "Trace Decay\n",
      "The Well-Tempered Clavier\n",
      "The Bicameral Mind\n",
      "Journey Into Night\n",
      "Reunion\n",
      "Virtù e Fortuna\n",
      "The Riddle of the Sphinx\n",
      "Akane No Mai\n",
      "Phase Space\n",
      "Les Écorchés\n",
      "Kiksuya\n",
      "Vanishing Point\n",
      "The Passenger\n"
     ]
    }
   ],
   "source": [
    "if response.status_code == 200:\n",
    "    # Get the JSON data from the response\n",
    "    data = response.json()\n",
    "    \n",
    "    # Extract the episodes data\n",
    "    episodes = data[\"_embedded\"][\"episodes\"]\n",
    "    \n",
    "    # Define the cutoff date\n",
    "    cutoff_date = datetime(2019, 5, 1)\n",
    "    \n",
    "    # Initialize a list to store the episode names\n",
    "    episode_names = []\n",
    "    \n",
    "    # Iterate over each episode and check if it aired before the cutoff date\n",
    "    for episode in episodes:\n",
    "        airdate = datetime.strptime(episode[\"airdate\"], \"%Y-%m-%d\")\n",
    "        if airdate < cutoff_date:\n",
    "            episode_names.append(episode[\"name\"])\n",
    "    \n",
    "    # Print the episode names\n",
    "    for name in episode_names:\n",
    "        print(name)\n",
    "else:\n",
    "    print(\"Error:\", response.status_code)"
   ]
  },
  {
   "attachments": {},
   "cell_type": "markdown",
   "metadata": {},
   "source": [
    "### 4. Get the episode name from each season with the highest and lowest rating"
   ]
  },
  {
   "cell_type": "code",
   "execution_count": 24,
   "metadata": {},
   "outputs": [
    {
     "name": "stdout",
     "output_type": "stream",
     "text": [
      "Season 1:\n",
      "Highest rated episode: The Bicameral Mind\n",
      "Lowest rated episode: The Stray\n",
      "Season 2:\n",
      "Highest rated episode: Kiksuya\n",
      "Lowest rated episode: Akane No Mai\n",
      "Season 3:\n",
      "Highest rated episode: Parce Domine\n",
      "Lowest rated episode: Decoherence\n",
      "Season 4:\n",
      "Highest rated episode: Zhuangzi\n",
      "Lowest rated episode: The Auguries\n"
     ]
    }
   ],
   "source": [
    "seasons = {}\n",
    "\n",
    "for episode in episodes:\n",
    "    season_number = episode[\"season\"]\n",
    "    if season_number not in seasons:\n",
    "        seasons[season_number] = {\"highest\": episode, \"lowest\": episode}\n",
    "    else:\n",
    "        if episode[\"rating\"][\"average\"] > seasons[season_number][\"highest\"][\"rating\"][\"average\"]:\n",
    "            seasons[season_number][\"highest\"] = episode\n",
    "        if episode[\"rating\"][\"average\"] < seasons[season_number][\"lowest\"][\"rating\"][\"average\"]:\n",
    "            seasons[season_number][\"lowest\"] = episode\n",
    "\n",
    "for season_number, season_data in seasons.items():\n",
    "    print(f\"Season {season_number}:\")\n",
    "    print(f\"Highest rated episode: {season_data['highest']['name']}\")\n",
    "    print(f\"Lowest rated episode: {season_data['lowest']['name']}\")"
   ]
  },
  {
   "attachments": {},
   "cell_type": "markdown",
   "metadata": {},
   "source": [
    "### 5. Get the summary for the most popular ( ratings ) episode in every season"
   ]
  },
  {
   "cell_type": "code",
   "execution_count": 27,
   "metadata": {},
   "outputs": [
    {
     "name": "stdout",
     "output_type": "stream",
     "text": [
      "Season 1:\n",
      "Most popular episode: The Bicameral Mind\n",
      "Summary: Delores finds out the truth about William's fate. Meanwhile, Maeve organizes an escape plan, only to discover that someone else is pulling the strings. And Robert plays the final piece in his grand narrative.\n",
      "Season 2:\n",
      "Most popular episode: Kiksuya\n",
      "Summary: Another of Westworld's Host revolutionaries is revealed. Meanwhile, Emily finds the Man and convinces the Ghost Nation to hand him over to her to ensure his suffering.\n",
      "Season 3:\n",
      "Most popular episode: Parce Domine\n",
      "Summary: If you're stuck in a loop, try walking in a straight line.\n",
      "Season 4:\n",
      "Most popular episode: Zhuangzi\n",
      "Summary: God is bored.\n"
     ]
    }
   ],
   "source": [
    "# Get the list of episodes from the data\n",
    "episodes = data[\"_embedded\"][\"episodes\"]\n",
    "# Create an empty dictionary to store the most popular episode for each season\n",
    "seasons = {}\n",
    "\n",
    "# Loop through each episode in the list of episodes\n",
    "for episode in episodes:\n",
    "    # Get the season number for this episode\n",
    "    season_number = episode[\"season\"]\n",
    "    \n",
    "    # Check if this season is not already in the dictionary\n",
    "    if season_number not in seasons:\n",
    "        # If it's not, add this episode as the most popular for this season\n",
    "        seasons[season_number] = episode\n",
    "    else:\n",
    "        # If it is, check if this episode has a higher rating than the current most popular episode for this season\n",
    "        if episode[\"rating\"][\"average\"] > seasons[season_number][\"rating\"][\"average\"]:\n",
    "            # If it does, update the most popular episode for this season to be this episode\n",
    "            seasons[season_number] = episode\n",
    "\n",
    "# Loop through each season in the dictionary\n",
    "for season_number, season_data in seasons.items():\n",
    "    # Print out the season number\n",
    "    print(f\"Season {season_number}:\")\n",
    "    \n",
    "    # Print out the name of the most popular episode for this season\n",
    "    print(f\"Most popular episode: {season_data['name']}\")\n",
    "    \n",
    "    # Get the summary text and strip any HTML tags from it using BeautifulSoup\n",
    "    summary_text = BeautifulSoup(season_data['summary'], \"html.parser\").get_text()\n",
    "    \n",
    "    # Print out the summary text without HTML tags\n",
    "    print(f\"Summary: {summary_text}\")"
   ]
  }
 ],
 "metadata": {
  "kernelspec": {
   "display_name": "Python 3",
   "language": "python",
   "name": "python3"
  },
  "language_info": {
   "codemirror_mode": {
    "name": "ipython",
    "version": 3
   },
   "file_extension": ".py",
   "mimetype": "text/x-python",
   "name": "python",
   "nbconvert_exporter": "python",
   "pygments_lexer": "ipython3",
   "version": "3.10.2"
  },
  "orig_nbformat": 4
 },
 "nbformat": 4,
 "nbformat_minor": 2
}
