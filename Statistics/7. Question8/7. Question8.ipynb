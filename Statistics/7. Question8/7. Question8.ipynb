{
 "cells": [
  {
   "attachments": {},
   "cell_type": "markdown",
   "metadata": {},
   "source": [
    "### Question 8\n",
    "The anxiety levels of 10 participants were measured before and after a new therapy.\n",
    "The scores are not normally distributed. Use the Wilcoxon signed-rank test to test whether\n",
    "the therapy had a significant effect on anxiety levels. The data is given below: Participant\n",
    "Before therapy After therapy Differenc"
   ]
  },
  {
   "cell_type": "code",
   "execution_count": 3,
   "metadata": {},
   "outputs": [
    {
     "name": "stdout",
     "output_type": "stream",
     "text": [
      "statistic value is 0.0\n",
      "p_value is 0.001953125\n",
      "The therapy had a significant effect on anxiety levels.\n"
     ]
    }
   ],
   "source": [
    "from scipy.stats import wilcoxon\n",
    "\n",
    "raw_data = { \n",
    "            'Participant': [1, 2, 3, 4, 5,6,7,8,9,10], \n",
    "            'Before therapy': [10, 8, 12,15,6,9,11,7,14,10], \n",
    "            'After therapy': [7, 6, 10, 12, 5,8,9,6,12,8],\n",
    "            'Difference': [-3, -2, -2, -3, -1,-1,-2,-1,-2,-2]}\n",
    "\n",
    "# Extract the differences in anxiety levels before and after therapy\n",
    "differences = raw_data['Difference']\n",
    "\n",
    "# Perform a Wilcoxon signed-rank test\n",
    "w_statistic, p_value = wilcoxon(differences)\n",
    "\n",
    "print(\"statistic value is\",w_statistic)\n",
    "print(\"p_value is\",p_value)\n",
    "\n",
    "# If the p-value is less than 0.05, we can reject the null hypothesis that the therapy had no effect on anxiety levels\n",
    "if p_value < 0.05:\n",
    "    print(\"The therapy had a significant effect on anxiety levels.\")\n",
    "else:\n",
    "    print(\"The therapy did not have a significant effect on anxiety levels.\")\n"
   ]
  }
 ],
 "metadata": {
  "kernelspec": {
   "display_name": "Python 3",
   "language": "python",
   "name": "python3"
  },
  "language_info": {
   "codemirror_mode": {
    "name": "ipython",
    "version": 3
   },
   "file_extension": ".py",
   "mimetype": "text/x-python",
   "name": "python",
   "nbconvert_exporter": "python",
   "pygments_lexer": "ipython3",
   "version": "3.10.2"
  },
  "orig_nbformat": 4
 },
 "nbformat": 4,
 "nbformat_minor": 2
}
