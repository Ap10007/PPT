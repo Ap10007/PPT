{
 "cells": [
  {
   "cell_type": "code",
   "execution_count": 1,
   "metadata": {},
   "outputs": [
    {
     "name": "stdout",
     "output_type": "stream",
     "text": [
      "Extracted and saved data in a excel file\n"
     ]
    }
   ],
   "source": [
    "import requests\n",
    "import json\n",
    "import pandas as pd\n",
    "\n",
    "#Creating a function to extract and clean the data\n",
    "def download_and_convert_data(url):\n",
    "    # Download the data from the provided link\n",
    "    response = requests.get(url)\n",
    "    data = response.json()\n",
    "\n",
    "    # Extracting required data\n",
    "    clean_data = []\n",
    "    for pokemon in data['pokemon']:\n",
    "        attributes = {\n",
    "            'id': pokemon['id'],\n",
    "            'num': pokemon['num'],\n",
    "            'name': pokemon['name'],\n",
    "            'img': pokemon['img'],\n",
    "            'type': \", \".join(pokemon['type']),\n",
    "            'height': pokemon['height'],\n",
    "            'weight': pokemon['weight'],\n",
    "            'candy': pokemon.get('candy', \"\"),\n",
    "            'candy_count': pokemon.get('candy_count', \"\"),\n",
    "            'egg': pokemon.get('egg', \"\"),\n",
    "            'spawn_chance': pokemon.get('spawn_chance', \"\"),\n",
    "            'avg_spawns': pokemon.get('avg_spawns', \"\"),\n",
    "            'spawn_time': pokemon.get('spawn_time', \"\"),\n",
    "            'multipliers': pokemon.get('multipliers', \"\"),\n",
    "            'weakness': \", \".join(pokemon['weaknesses']),\n",
    "            'next_evolution': \", \".join([evolution[\"num\"] + \": \" + evolution[\"name\"]  for evolution in pokemon.get('next_evolution', [])]),\n",
    "            'prev_evolution':\", \".join([evolution[\"num\"] + \": \" + evolution[\"name\"] for evolution in pokemon.get('prev_evolution', [])])\n",
    "        }\n",
    "        clean_data.append(attributes)\n",
    "\n",
    "    # Convert the data into a pandas DataFrame\n",
    "    df = pd.DataFrame(clean_data)\n",
    "\n",
    "    # Save the DataFrame to Excel format\n",
    "    df.to_excel('pokemon_pokedex.xlsx', index=False)\n",
    "\n",
    "    print(\"Extracted and saved data in a excel file\")\n",
    "\n",
    "\n",
    "# Provide the URL of the data\n",
    "url = 'https://raw.githubusercontent.com/Biuni/PokemonGO-Pokedex/master/pokedex.json'\n",
    "\n",
    "# Calling the function\n",
    "download_and_convert_data(url)\n"
   ]
  }
 ],
 "metadata": {
  "kernelspec": {
   "display_name": "Python 3",
   "language": "python",
   "name": "python3"
  },
  "language_info": {
   "codemirror_mode": {
    "name": "ipython",
    "version": 3
   },
   "file_extension": ".py",
   "mimetype": "text/x-python",
   "name": "python",
   "nbconvert_exporter": "python",
   "pygments_lexer": "ipython3",
   "version": "3.10.2"
  },
  "orig_nbformat": 4
 },
 "nbformat": 4,
 "nbformat_minor": 2
}
