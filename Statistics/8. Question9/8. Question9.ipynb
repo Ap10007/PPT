{
 "cells": [
  {
   "attachments": {},
   "cell_type": "markdown",
   "metadata": {},
   "source": [
    "### Question 9\n"
   ]
  },
  {
   "cell_type": "code",
   "execution_count": 2,
   "metadata": {},
   "outputs": [
    {
     "name": "stdout",
     "output_type": "stream",
     "text": [
      "statistic value is 12.025830258302586\n",
      "p_value is 0.0007760917135044952\n",
      "The mean scores of all the students are not the same.\n",
      "The student with the highest mean score is Jeevan.\n"
     ]
    }
   ],
   "source": [
    "from scipy.stats import f_oneway\n",
    "\n",
    "data = { 'Karan': [85, 90, 92], 'Deepa': [70, 80, 85], 'Karthik': [90, 85, 88], 'Chandan': [75, 70, 75], 'Jeevan': [95, 92, 96]}\n",
    "\n",
    "# Extract the scores of each student\n",
    "scores = list(data.values())\n",
    "\n",
    "# Perform a one-way ANOVA test\n",
    "f_statistic, p_value = f_oneway(*scores)\n",
    "\n",
    "print(\"statistic value is\",f_statistic)\n",
    "print(\"p_value is\",p_value)\n",
    "\n",
    "# If the p-value is less than 0.05, we can reject the null hypothesis that the mean scores of all the students are the same\n",
    "if p_value < 0.05:\n",
    "    print(\"The mean scores of all the students are not the same.\")\n",
    "    \n",
    "    # Find the student with the highest mean score\n",
    "    mean_scores = {student: sum(scores) / len(scores) for student, scores in data.items()}\n",
    "    highest_scorer = max(mean_scores, key=mean_scores.get)\n",
    "    \n",
    "    print(f\"The student with the highest mean score is {highest_scorer}.\")\n",
    "else:\n",
    "    print(\"The mean scores of all the students are the same.\")\n"
   ]
  }
 ],
 "metadata": {
  "kernelspec": {
   "display_name": "Python 3",
   "language": "python",
   "name": "python3"
  },
  "language_info": {
   "codemirror_mode": {
    "name": "ipython",
    "version": 3
   },
   "file_extension": ".py",
   "mimetype": "text/x-python",
   "name": "python",
   "nbconvert_exporter": "python",
   "pygments_lexer": "ipython3",
   "version": "3.10.2"
  },
  "orig_nbformat": 4
 },
 "nbformat": 4,
 "nbformat_minor": 2
}
