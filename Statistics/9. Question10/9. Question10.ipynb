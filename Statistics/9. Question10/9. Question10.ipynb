{
 "cells": [
  {
   "attachments": {},
   "cell_type": "markdown",
   "metadata": {},
   "source": [
    "### Question 10\n",
    "A factory produces light bulbs, and the probability of a bulb being defective is 0.05.\n",
    "The factory produces a large batch of 500 light bulbs.\n",
    "a. What is the probability that exactly 20 bulbs are defective?\n",
    "b. What is the probability that at least 10 bulbs are defective?\n",
    "c. What is the probability that at max 15 bulbs are defective?\n",
    "d. On average, how many defective bulbs would you expect in a batch of 500?"
   ]
  },
  {
   "cell_type": "code",
   "execution_count": 1,
   "metadata": {},
   "outputs": [
    {
     "name": "stdout",
     "output_type": "stream",
     "text": [
      "The probability that exactly 20 bulbs are defective is 0.0516\n",
      "The probability that at least 10 bulbs are defective is 0.9998\n",
      "The probability that at max 15 bulbs are defective is 0.0199\n",
      "On average, you would expect 25.0 defective bulbs in a batch of 500\n"
     ]
    }
   ],
   "source": [
    "from scipy.stats import binom\n",
    "\n",
    "# Given the probability of a bulb being defective and the size of the batch\n",
    "p = 0.05\n",
    "n = 500\n",
    "\n",
    "# a. The probability that exactly 20 bulbs are defective\n",
    "prob_20_defective = binom.pmf(k=20, n=n, p=p)\n",
    "\n",
    "# b. The probability that at least 10 bulbs are defective\n",
    "prob_at_least_10_defective = 1 - binom.cdf(k=9, n=n, p=p)\n",
    "\n",
    "# c. The probability that at max 15 bulbs are defective\n",
    "prob_at_max_15_defective = binom.cdf(k=15, n=n, p=p)\n",
    "\n",
    "# d. The expected number of defective bulbs in a batch of 500\n",
    "expected_defective = n * p\n",
    "\n",
    "print(f\"The probability that exactly 20 bulbs are defective is {prob_20_defective:.4f}\")\n",
    "print(f\"The probability that at least 10 bulbs are defective is {prob_at_least_10_defective:.4f}\")\n",
    "print(f\"The probability that at max 15 bulbs are defective is {prob_at_max_15_defective:.4f}\")\n",
    "print(f\"On average, you would expect {expected_defective:.1f} defective bulbs in a batch of 500\")\n"
   ]
  }
 ],
 "metadata": {
  "kernelspec": {
   "display_name": "Python 3",
   "language": "python",
   "name": "python3"
  },
  "language_info": {
   "codemirror_mode": {
    "name": "ipython",
    "version": 3
   },
   "file_extension": ".py",
   "mimetype": "text/x-python",
   "name": "python",
   "nbconvert_exporter": "python",
   "pygments_lexer": "ipython3",
   "version": "3.10.2"
  },
  "orig_nbformat": 4
 },
 "nbformat": 4,
 "nbformat_minor": 2
}
