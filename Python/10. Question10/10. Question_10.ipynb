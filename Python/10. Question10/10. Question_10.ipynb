{
 "cells": [
  {
   "attachments": {},
   "cell_type": "markdown",
   "metadata": {},
   "source": [
    "### Question 10\n",
    "Write a program to count the number of verbs, nouns, pronouns, and adjectives in a given particular phrase or\n",
    "paragraph, and return their respective count as a dictionary."
   ]
  },
  {
   "cell_type": "code",
   "execution_count": 1,
   "metadata": {},
   "outputs": [],
   "source": [
    "import nltk\n",
    "from nltk.tokenize import word_tokenize\n",
    "from nltk import pos_tag\n"
   ]
  },
  {
   "cell_type": "code",
   "execution_count": 2,
   "metadata": {},
   "outputs": [
    {
     "name": "stdout",
     "output_type": "stream",
     "text": [
      "dic = {'Nouns': 5, 'Verbs': 3, 'Pronouns': 2, 'Adjectives': 1}\n"
     ]
    }
   ],
   "source": [
    "def count_pos(text):\n",
    "    # Tokenize the text\n",
    "    tokens = word_tokenize(text)\n",
    "    # Tag the tokens with their respective part of speech\n",
    "    tagged = pos_tag(tokens)\n",
    "    # Initialize counts for each part of speech\n",
    "    noun_count = 0\n",
    "    verb_count = 0\n",
    "    pronoun_count = 0\n",
    "    adjective_count = 0\n",
    "    # Iterate over the tagged tokens and count the parts of speech\n",
    "    for word, tag in tagged:\n",
    "        if tag.startswith('NN'):\n",
    "            noun_count += 1\n",
    "        elif tag.startswith('VB'):\n",
    "            verb_count += 1\n",
    "        elif tag.startswith('PRP'):\n",
    "            pronoun_count += 1\n",
    "        elif tag.startswith('JJ'):\n",
    "            adjective_count += 1\n",
    "    # Return the counts as a dictionary\n",
    "    return {'Nouns': noun_count, 'Verbs': verb_count, 'Pronouns': pronoun_count, 'Adjectives': adjective_count}\n",
    "\n",
    "text = \"I have a dream that one day this nation will rise up and live out the true meaning of its creed\"\n",
    "result = count_pos(text)\n",
    "print(\"dic = \"+ str(result))\n",
    "# Explanation: In this test case, there are 1 adjective (true), 5 nouns (dream, day, nation, meaning, creed), 2 verbs (have, rise) and 2 pronouns (I, its)."
   ]
  },
  {
   "attachments": {},
   "cell_type": "markdown",
   "metadata": {},
   "source": [
    "### Additional Test Cases"
   ]
  },
  {
   "cell_type": "code",
   "execution_count": 3,
   "metadata": {},
   "outputs": [
    {
     "name": "stdout",
     "output_type": "stream",
     "text": [
      "dic = {'Nouns': 3, 'Verbs': 1, 'Pronouns': 0, 'Adjectives': 2}\n"
     ]
    }
   ],
   "source": [
    "# Test case 1:\n",
    "text1 = \"The quick brown fox jumps over the lazy dog\"\n",
    "result1 = count_pos(text1)\n",
    "print(\"dic = \"+ str(result1))\n",
    "\n",
    "# Explanation: In this test case, there are 2 adjectives (quick and lazy), 2 nouns (fox and dog), 1 verb (jumps) and 0 pronouns."
   ]
  },
  {
   "cell_type": "code",
   "execution_count": 4,
   "metadata": {},
   "outputs": [
    {
     "name": "stdout",
     "output_type": "stream",
     "text": [
      "dic = {'Nouns': 2, 'Verbs': 1, 'Pronouns': 1, 'Adjectives': 0}\n"
     ]
    }
   ],
   "source": [
    "# Test case 2:\n",
    "text2 = \"She sells seashells by the seashore\"\n",
    "result2 = count_pos(text2)\n",
    "print(\"dic = \"+ str(result2))\n",
    "\n",
    "# Explanation: In this test case, there are 0 adjectives, 3 nouns (seashells, seashore), 1 verb (sells) and 1 pronoun (She)."
   ]
  }
 ],
 "metadata": {
  "kernelspec": {
   "display_name": "Python 3",
   "language": "python",
   "name": "python3"
  },
  "language_info": {
   "codemirror_mode": {
    "name": "ipython",
    "version": 3
   },
   "file_extension": ".py",
   "mimetype": "text/x-python",
   "name": "python",
   "nbconvert_exporter": "python",
   "pygments_lexer": "ipython3",
   "version": "3.10.2"
  },
  "orig_nbformat": 4
 },
 "nbformat": 4,
 "nbformat_minor": 2
}
