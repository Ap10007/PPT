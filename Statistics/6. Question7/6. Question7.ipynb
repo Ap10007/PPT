{
 "cells": [
  {
   "attachments": {},
   "cell_type": "markdown",
   "metadata": {},
   "source": [
    "### Question 7\n",
    "The equations of two lines of regression, obtained in a correlation analysis\n",
    "between variables X and Y are as follows:\n",
    "and . 2𝑋 + 3 − 8 = 0 2𝑌 + 𝑋 − 5 = 0 The variance of 𝑋 = 4 .\n",
    "\n",
    "Find the\n",
    "a. Variance of Y\n",
    "b. Coefficient of determination of C and Y\n",
    "c. Standard error of estimate of X on Y and of Y on X."
   ]
  },
  {
   "cell_type": "code",
   "execution_count": 1,
   "metadata": {},
   "outputs": [
    {
     "name": "stdout",
     "output_type": "stream",
     "text": [
      "Variance of Y: 1.7777777777777777\n",
      "Coefficient of determination: 1.0\n",
      "Standard error of estimate of Y on X: 0.0\n",
      "Standard error of estimate of X on Y: 0.0\n"
     ]
    }
   ],
   "source": [
    "import numpy as np\n",
    "\n",
    "# Given the two lines of regression: 2X + 3Y - 8 = 0 and 2Y + X - 5 = 0\n",
    "# We can rearrange them to get the equations of Y in terms of X and X in terms of Y\n",
    "# Y = (8 - 2X) / 3\n",
    "# X = (5 - 2Y)\n",
    "\n",
    "# Given the variance of X\n",
    "var_x = 4\n",
    "\n",
    "# We can use the formula Var(Y) = b^2 * Var(X), where b is the regression coefficient of Y on X\n",
    "b = -2/3\n",
    "var_y = b**2 * var_x\n",
    "\n",
    "# The coefficient of determination is given by r^2 = b^2 * (Var(X) / Var(Y))\n",
    "r_squared = b**2 * (var_x / var_y)\n",
    "\n",
    "# The standard error of estimate of Y on X is given by Syx = sqrt(MSE) where MSE is the mean squared error\n",
    "# MSE = Var(Y) * (1 - r^2)\n",
    "mse_y_on_x = var_y * (1 - r_squared)\n",
    "syx = np.sqrt(mse_y_on_x)\n",
    "\n",
    "# The standard error of estimate of X on Y is given by Sxy = sqrt(MSE) where MSE is the mean squared error\n",
    "# MSE = Var(X) * (1 - r^2)\n",
    "mse_x_on_y = var_x * (1 - r_squared)\n",
    "sxy = np.sqrt(mse_x_on_y)\n",
    "\n",
    "print(f\"Variance of Y: {var_y}\")\n",
    "print(f\"Coefficient of determination: {r_squared}\")\n",
    "print(f\"Standard error of estimate of Y on X: {syx}\")\n",
    "print(f\"Standard error of estimate of X on Y: {sxy}\")\n"
   ]
  }
 ],
 "metadata": {
  "kernelspec": {
   "display_name": "Python 3",
   "language": "python",
   "name": "python3"
  },
  "language_info": {
   "codemirror_mode": {
    "name": "ipython",
    "version": 3
   },
   "file_extension": ".py",
   "mimetype": "text/x-python",
   "name": "python",
   "nbconvert_exporter": "python",
   "pygments_lexer": "ipython3",
   "version": "3.10.2"
  },
  "orig_nbformat": 4
 },
 "nbformat": 4,
 "nbformat_minor": 2
}
